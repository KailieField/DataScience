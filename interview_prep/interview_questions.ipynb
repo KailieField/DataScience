{
 "cells": [
  {
   "cell_type": "code",
   "id": "initial_id",
   "metadata": {
    "collapsed": true,
    "ExecuteTime": {
     "end_time": "2025-02-12T04:22:11.669813Z",
     "start_time": "2025-02-12T04:22:11.667757Z"
    }
   },
   "source": "#1. WRITE A PYTHON FUNCTION TO CALCULATE THE MEAN, MEDIAN AND MODE OF A LIST OF NUMBERS",
   "outputs": [],
   "execution_count": 1
  },
  {
   "metadata": {
    "ExecuteTime": {
     "end_time": "2025-02-12T04:24:16.222166Z",
     "start_time": "2025-02-12T04:24:16.203856Z"
    }
   },
   "cell_type": "code",
   "source": [
    "from statistics import mean, median, mode\n",
    "numbers = [ 1, 2, 3, 4, 5, 6, 7, 8, 9, 10, 11, 12, 13, 14, 15 ]\n",
    "def calculate_statistics(numbers):\n",
    "    return{\n",
    "    'mean': mean(numbers),\n",
    "    'median': median(numbers),\n",
    "    'mode': mode(numbers)\n",
    "    }\n",
    "\n",
    "print(calculate_statistics(numbers))"
   ],
   "id": "5d23219ef07664ea",
   "outputs": [
    {
     "name": "stdout",
     "output_type": "stream",
     "text": [
      "{'mean': 8, 'median': 8, 'mode': 1}\n"
     ]
    }
   ],
   "execution_count": 2
  },
  {
   "metadata": {},
   "cell_type": "code",
   "outputs": [],
   "execution_count": null,
   "source": [
    "#2. WRITE A PYTHON FUNCTION TO COUNT THE FREQUENCY OF EACGH WORD IN A TEXT FILE\n",
    "def word_frequency(\"example.txt\")"
   ],
   "id": "5b3b15176278a234"
  }
 ],
 "metadata": {
  "kernelspec": {
   "display_name": "Python 3",
   "language": "python",
   "name": "python3"
  },
  "language_info": {
   "codemirror_mode": {
    "name": "ipython",
    "version": 2
   },
   "file_extension": ".py",
   "mimetype": "text/x-python",
   "name": "python",
   "nbconvert_exporter": "python",
   "pygments_lexer": "ipython2",
   "version": "2.7.6"
  }
 },
 "nbformat": 4,
 "nbformat_minor": 5
}
